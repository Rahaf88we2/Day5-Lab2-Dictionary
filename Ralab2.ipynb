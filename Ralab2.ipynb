{
 "cells": [
  {
   "cell_type": "code",
   "execution_count": 43,
   "id": "c942641c-5a6d-4cd2-b714-7cbcabca8d4c",
   "metadata": {},
   "outputs": [
    {
     "name": "stdin",
     "output_type": "stream",
     "text": [
      "What is your number 6666666666\n"
     ]
    },
    {
     "name": "stdout",
     "output_type": "stream",
     "text": [
      "Faisal\n"
     ]
    }
   ],
   "source": [
    "PhoneBook = {\n",
    "    '1': {'Name':'Amal', 'Number':1111111111},\n",
    "    '2': {'Name':'Mohammed','Number':2222222222},\n",
    "    '3': {'Name':'khadijah','Number':3333333333},\n",
    "    '4': {'Name':'Abdullah','Number':4444444444}, \n",
    "    '5': {'Name':'Rawan','Number':5555555555},\n",
    "    '6': {'Name':'Faisal','Number':6666666666},\n",
    "    '7': {'Name':'Layla','Number':7777777777},\n",
    "\n",
    "      }\n",
    "\n",
    "\n",
    "number = input(\"What is your number\")\n",
    "if len(number)!=10:\n",
    "    print(\" This is invalid number\")\n",
    "elif not number.isnumeric():\n",
    "    print(\"This is invalid number,it contain letters\")\n",
    "else:\n",
    "    notfound=True\n",
    "    for key,value in PhoneBook.items():\n",
    "        if int(number)== value ['Number']:\n",
    "            print(value['Name'])\n",
    "            notfound=False\n",
    "            break\n",
    "    if notfound:\n",
    "            print(\"Sorry, the numer is not found\")\n"
   ]
  },
  {
   "cell_type": "code",
   "execution_count": null,
   "id": "f700fc9c-e3cc-4af2-85f3-bb052d52065c",
   "metadata": {},
   "outputs": [],
   "source": []
  },
  {
   "cell_type": "code",
   "execution_count": null,
   "id": "bb16ad5f-63a0-47cf-ad4a-fcba3ab651ef",
   "metadata": {},
   "outputs": [],
   "source": []
  },
  {
   "cell_type": "code",
   "execution_count": null,
   "id": "3df42b78-1b72-4a65-a4cc-94aee1bca9e6",
   "metadata": {},
   "outputs": [],
   "source": []
  },
  {
   "cell_type": "code",
   "execution_count": null,
   "id": "d0aa98a4-6d94-4d28-a1e1-016454cae2fd",
   "metadata": {},
   "outputs": [],
   "source": []
  }
 ],
 "metadata": {
  "kernelspec": {
   "display_name": "Python 3 (ipykernel)",
   "language": "python",
   "name": "python3"
  },
  "language_info": {
   "codemirror_mode": {
    "name": "ipython",
    "version": 3
   },
   "file_extension": ".py",
   "mimetype": "text/x-python",
   "name": "python",
   "nbconvert_exporter": "python",
   "pygments_lexer": "ipython3",
   "version": "3.9.13"
  }
 },
 "nbformat": 4,
 "nbformat_minor": 5
}
